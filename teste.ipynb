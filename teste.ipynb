{
 "cells": [
  {
   "cell_type": "code",
   "execution_count": null,
   "metadata": {},
   "outputs": [],
   "source": [
    "<!DOCTYPE html>\n",
    "<html lang=\"en\">\n",
    "<head>\n",
    "    <meta charset=\"UTF-8\">\n",
    "    <meta http-equiv=\"X-UA-Compatible\" content=\"IE=edge\">\n",
    "    <meta name=\"viewport\" content=\"width=device-width, initial-scale=1.0\">\n",
    "    <title></title>\n",
    "</head>\n",
    "<body onload='draw();'>\n",
    "    <canvas id=\"chess\" width=\"800\" height=\"800\"></canvas>\n",
    "    <button onclick=\"myFunction()\">Teste</button>\n",
    "    <div>\n",
    "        <p>Geração: <span id=\"num_geracao\"></span></p>\n",
    "        <p>Genocidio: <span id=\"num_genocidio\"></span></p>\n",
    "        <p>Fitness: <span id=\"num_fitness\"></span></p>\n",
    "    </div>\n",
    "    <script type=\"text/javascript\" src=\"https://cdnjs.cloudflare.com/ajax/libs/jquery/3.6.0/jquery.min.js\"></script>\n",
    "    <script type=\"text/javascript\" src=\"./viewer/index.js\"></script>\n",
    "</body>\n",
    "</html>"
   ]
  }
 ],
 "metadata": {
  "language_info": {
   "name": "python"
  },
  "orig_nbformat": 4
 },
 "nbformat": 4,
 "nbformat_minor": 2
}
