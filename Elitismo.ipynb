{
 "cells": [
  {
   "cell_type": "markdown",
   "metadata": {},
   "source": [
    "# Grupo 10 ~ The N-queens Problem\n",
    "\n",
    "**SSC0713 - Sistemas Evolutivos Aplicados à Robótica**\n",
    "\n",
    "*André Prado Furlanetti - N°USP:* \n",
    "\n",
    "*Mateus Doimo - N°USP: 10691971*\n",
    "\n",
    "*Renan Peres Martins - N°USP: 10716612*"
   ]
  },
  {
   "cell_type": "markdown",
   "metadata": {},
   "source": [
    "## Preparação do ambiente\n",
    "\n",
    "Carrega as bibliotecas e inicia as constantes."
   ]
  },
  {
   "cell_type": "code",
   "execution_count": 62,
   "metadata": {},
   "outputs": [],
   "source": [
    "import numpy as np\n",
    "from random import randrange, seed\n",
    "from IPython.core.display import HTML\n",
    "\n",
    "MAX_POPULATION = 50\n",
    "F_PROBABILITY = 0.5\n",
    "MUTATION_RATE = 1\n",
    "N_SIZE = 10"
   ]
  },
  {
   "cell_type": "markdown",
   "metadata": {},
   "source": [
    "# Funções do Tabuleiro\n",
    "\n",
    "Define as funções auxiliares para manipular op tabuleiro (criação/zera, adiciona e remove peça e verifica o número de rainhas em conflito)"
   ]
  },
  {
   "cell_type": "code",
   "execution_count": 63,
   "metadata": {},
   "outputs": [],
   "source": [
    "def initializeBoard():\n",
    "    board = np.zeros([N_SIZE, N_SIZE], dtype=int)\n",
    "    return board\n",
    "\n",
    "def insertPiece(board, position_X, position_Y):\n",
    "    if board[position_X][position_Y] != 0:\n",
    "        return -1\n",
    "    board[position_X][position_Y] = 1\n",
    "\n",
    "    return board\n",
    "\n",
    "def removePiece(board, position_X, position_Y):\n",
    "    if board[position_X][position_Y] == 0:\n",
    "        return -1\n",
    "    board[position_X][position_Y] = 0\n",
    "\n",
    "    return board\n",
    "\n",
    "def verifyAttack(board, position_X, position_Y):\n",
    "    atk = 0\n",
    "    typeCheck = board[position_X][position_Y]\n",
    "\n",
    "    if position_X >= N_SIZE or position_Y >= N_SIZE:\n",
    "        return -1\n",
    "\n",
    "    if typeCheck == 1:\n",
    "        for i in range(N_SIZE):\n",
    "            if i == position_Y:\n",
    "                continue\n",
    "            if board[position_X][i] != 0:\n",
    "                atk += 1\n",
    "        for i in range(N_SIZE):\n",
    "            if i == position_X:\n",
    "                continue\n",
    "            if board[i][position_Y] != 0:\n",
    "                atk += 1\n",
    "\n",
    "    if typeCheck == 1:\n",
    "        i = 1\n",
    "        while (position_X + i < N_SIZE) and (position_Y + i < N_SIZE):\n",
    "            if board[position_X + i][position_Y + i] != 0:\n",
    "                atk += 1\n",
    "            i += 1\n",
    "        i = 1\n",
    "        while (position_X - i >= 0) and (position_Y - i >= 0):\n",
    "            if board[position_X - i][position_Y - i] != 0:\n",
    "                atk += 1\n",
    "            i += 1\n",
    "        i = 1\n",
    "        while (position_X + i < N_SIZE) and (position_Y - i >= 0):\n",
    "            if board[position_X + i][position_Y - i] != 0:\n",
    "                atk += 1\n",
    "            i += 1\n",
    "        i = 1\n",
    "        while (position_X - i >= 0) and (position_Y + i < N_SIZE):\n",
    "            if board[position_X - i][position_Y + i] != 0:\n",
    "                atk += 1\n",
    "            i += 1\n",
    "\n",
    "    return atk, board\n",
    "\n"
   ]
  },
  {
   "cell_type": "markdown",
   "metadata": {},
   "source": [
    "# Funções da População\n",
    "\n",
    "Define as funções auxiliares para manipular a população de amostras (inicialização e mutação de uma população)"
   ]
  },
  {
   "cell_type": "code",
   "execution_count": 64,
   "metadata": {},
   "outputs": [],
   "source": [
    "def initializePopulation():\n",
    "    population = np.zeros([MAX_POPULATION, N_SIZE], dtype=int)\n",
    "    for i in range(MAX_POPULATION):\n",
    "        for j in range(N_SIZE):\n",
    "            population[i][j] = randrange(start=0, stop=N_SIZE)\n",
    "    return population\n",
    "\n",
    "def mutation(population, mutationRate):\n",
    "    for i in range(MAX_POPULATION):\n",
    "        if((randrange(start=0, stop=1000)/1000.0) <= MUTATION_RATE):\n",
    "            for j in range(mutationRate):\n",
    "                genome = randrange(start=0, stop=N_SIZE)\n",
    "                if(population[i][genome] == 0):\n",
    "                    population[i][genome] += 1\n",
    "                elif(population[i][genome] == N_SIZE-1):\n",
    "                    population[i][genome] -= 1\n",
    "                elif(randrange(start=0, stop=2)):\n",
    "                    population[i][genome] += 1\n",
    "                else:\n",
    "                    population[i][genome] -= 1\n",
    "    return population"
   ]
  },
  {
   "cell_type": "markdown",
   "metadata": {},
   "source": [
    "# Funções das Amostras"
   ]
  },
  {
   "cell_type": "code",
   "execution_count": 65,
   "metadata": {},
   "outputs": [],
   "source": [
    "def randomFeeding():\n",
    "    vector = [randrange(start=0, stop=N_SIZE) for i in range(N_SIZE)]\n",
    "    return vector\n",
    "\n",
    "def insertSample(sample, board):\n",
    "    for i in range(N_SIZE):\n",
    "        board[i][sample[i]] = 1\n",
    "    return board\n",
    "\n",
    "def valuationSample(board, sample):\n",
    "    sumFitness = 0\n",
    "    atk = 0\n",
    "    board = initializeBoard()\n",
    "    for i in range(N_SIZE):\n",
    "        board = insertPiece(board, i, sample[i])\n",
    "    for i in range(N_SIZE):\n",
    "        atk, board = verifyAttack(board, i, sample[i])\n",
    "        sumFitness += atk\n",
    "        board = removePiece(board, i, sample[i])\n",
    "    return sumFitness, board"
   ]
  },
  {
   "cell_type": "code",
   "execution_count": 66,
   "metadata": {},
   "outputs": [],
   "source": [
    "def generateFitnessVector(population, board):\n",
    "    fitness_population = np.zeros(MAX_POPULATION, dtype=int)\n",
    "    for i in range(MAX_POPULATION):\n",
    "        fitness_population[i], board = valuationSample(board, population[i])\n",
    "    return fitness_population, board\n",
    "    \n",
    "def recombinesIndividualsElitism(population, fitness):\n",
    "    indexBetterFitness = 0\n",
    "    betterFitness = 100000000\n",
    "\n",
    "    for i in range(MAX_POPULATION):\n",
    "        if(fitness[i] < betterFitness):\n",
    "            indexBetterFitness = i\n",
    "            betterFitness = fitness[i]\n",
    "    for i in range(MAX_POPULATION):\n",
    "        for j in range(N_SIZE):\n",
    "            population[i][j] = population[indexBetterFitness][j]\n",
    "    return indexBetterFitness, population\n"
   ]
  },
  {
   "cell_type": "code",
   "execution_count": 67,
   "metadata": {},
   "outputs": [],
   "source": [
    "# TEM QUE TIRAR DPS\n",
    "def printBoard(board):\n",
    "    for i in range(N_SIZE):\n",
    "        for j in range(N_SIZE):\n",
    "            print(\" \", board[i][j], \" \", end=\"\")\n",
    "        print(\"\")"
   ]
  },
  {
   "cell_type": "code",
   "execution_count": 68,
   "metadata": {},
   "outputs": [
    {
     "name": "stdout",
     "output_type": "stream",
     "text": [
      "  0    0    0    0    0    1    0    0    0    0  \n",
      "  0    0    0    0    0    0    0    1    0    0  \n",
      "  0    0    0    0    0    0    0    0    0    1  \n",
      "  0    1    0    0    0    0    0    0    0    0  \n",
      "  0    0    0    1    0    0    0    0    0    0  \n",
      "  0    0    0    0    0    0    0    0    1    0  \n",
      "  1    0    0    0    0    0    0    0    0    0  \n",
      "  0    0    1    0    0    0    0    0    0    0  \n",
      "  0    0    0    0    1    0    0    0    0    0  \n",
      "  0    0    0    0    0    0    1    0    0    0  \n",
      "Generation:  579\n",
      "genocidios:  2\n",
      "fitness:  0\n",
      "End\n"
     ]
    }
   ],
   "source": [
    "#Variáveis locais\n",
    "genocides = 0\n",
    "stop_criterion = 1\n",
    "generation = 0\n",
    "mutation_rate = 1\n",
    "fitness_previous = 1000000\n",
    "best_individual = np.zeros(N_SIZE, dtype=int)\n",
    "board = initializeBoard()\n",
    "\n",
    "#Laço de repetição\n",
    "while stop_criterion:\n",
    "        population = initializePopulation()\n",
    "        if generation > 0:\n",
    "            if randrange(start=0, stop=2):\n",
    "                for i in range(N_SIZE):\n",
    "                    population[0][i] = best_individual[i]\n",
    "        while True:\n",
    "            fitness, board = generateFitnessVector(population, board)\n",
    "            index_best_individual, population = recombinesIndividualsElitism(population,fitness)\n",
    "            for i in range(N_SIZE):\n",
    "                best_individual[i] = population[index_best_individual][i]\n",
    "            population = mutation(population, mutation_rate)\n",
    "            board = initializeBoard()\n",
    "            board = insertSample(population[index_best_individual], board)\n",
    "            generation += 1\n",
    "            fitness_best_individual, board = valuationSample(\n",
    "                board, best_individual)\n",
    "            if fitness_best_individual == 0:\n",
    "                board = insertSample(best_individual, board)\n",
    "                printBoard(board)\n",
    "                print(\"Generation: \", generation)\n",
    "                print(\"genocidios: \", genocides)\n",
    "                print(\"fitness: \", fitness_best_individual)\n",
    "                stop_criterion = 0\n",
    "                break\n",
    "            if fitness_best_individual == fitness_previous:\n",
    "                mutation_rate += 1\n",
    "            elif fitness_best_individual < fitness_previous:\n",
    "                mutation_rate = 0\n",
    "            fitness_previous = fitness_best_individual\n",
    "            if mutation_rate == N_SIZE:\n",
    "                genocides += 1\n",
    "                mutation_rate = 1\n",
    "                population = 0\n",
    "                break\n",
    "print(\"End\")"
   ]
  },
  {
   "cell_type": "code",
   "execution_count": 69,
   "metadata": {},
   "outputs": [
    {
     "data": {
      "text/html": [
       "\n",
       "<!DOCTYPE html>\n",
       "<html lang=\"en\">\n",
       "<head>\n",
       "    <meta charset=\"UTF-8\">\n",
       "    <meta http-equiv=\"X-UA-Compatible\" content=\"IE=edge\">\n",
       "    <meta name=\"viewport\" content=\"width=device-width, initial-scale=1.0\">\n",
       "    <title></title>\n",
       "    <script type=\"text/javascript\" src=\"https://cdnjs.cloudflare.com/ajax/libs/jquery/3.6.0/jquery.min.js\"></script>\n",
       "    <script type=\"text/javascript\" src=\"./viewer/index.js\"></script>\n",
       "</head>\n",
       "<body>\n",
       "    <p>Teste</p>\n",
       "    <canvas id=\"chess\" width=\"800\" height=\"800\"></canvas>\n",
       "    <div>\n",
       "        <p>Geração: <span id=\"num_geracao\"></span></p>\n",
       "        <p>Genocidio: <span id=\"num_genocidio\"></span></p>\n",
       "        <p>Fitness: <span id=\"num_fitness\"></span></p>\n",
       "    </div>\n",
       "</body>\n",
       "</html> "
      ],
      "text/plain": [
       "<IPython.core.display.HTML object>"
      ]
     },
     "metadata": {},
     "output_type": "display_data"
    }
   ],
   "source": [
    "htmlCode = \"\"\"\n",
    "<!DOCTYPE html>\n",
    "<html lang=\"en\">\n",
    "<head>\n",
    "    <meta charset=\"UTF-8\">\n",
    "    <meta http-equiv=\"X-UA-Compatible\" content=\"IE=edge\">\n",
    "    <meta name=\"viewport\" content=\"width=device-width, initial-scale=1.0\">\n",
    "    <title></title>\n",
    "    <script type=\"text/javascript\" src=\"https://cdnjs.cloudflare.com/ajax/libs/jquery/3.6.0/jquery.min.js\"></script>\n",
    "    <script type=\"text/javascript\" src=\"./viewer/index.js\"></script>\n",
    "</head>\n",
    "<body>\n",
    "    <p>Teste</p>\n",
    "    <canvas id=\"chess\" width=\"800\" height=\"800\"></canvas>\n",
    "    <div>\n",
    "        <p>Geração: <span id=\"num_geracao\"></span></p>\n",
    "        <p>Genocidio: <span id=\"num_genocidio\"></span></p>\n",
    "        <p>Fitness: <span id=\"num_fitness\"></span></p>\n",
    "    </div>\n",
    "</body>\n",
    "</html> \"\"\"\n",
    "display(HTML(htmlCode))"
   ]
  }
 ],
 "metadata": {
  "interpreter": {
   "hash": "916dbcbb3f70747c44a77c7bcd40155683ae19c65e1c03b4aa3499c5328201f1"
  },
  "kernelspec": {
   "display_name": "Python 3.8.10 64-bit",
   "language": "python",
   "name": "python3"
  },
  "language_info": {
   "codemirror_mode": {
    "name": "ipython",
    "version": 3
   },
   "file_extension": ".py",
   "mimetype": "text/x-python",
   "name": "python",
   "nbconvert_exporter": "python",
   "pygments_lexer": "ipython3",
   "version": "3.9.1"
  },
  "orig_nbformat": 4
 },
 "nbformat": 4,
 "nbformat_minor": 2
}
